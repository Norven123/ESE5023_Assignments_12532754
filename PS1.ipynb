{
 "cells": [
  {
   "cell_type": "code",
   "execution_count": 38,
   "id": "dfce31ce-6bd3-4806-89f6-54dc0aae41d0",
   "metadata": {},
   "outputs": [
    {
     "data": {
      "text/plain": [
       "'\\n1.流程图[10 分] \\n编写一个名为 Print_values 的函数，其参数为 a、b、c，以实现以下流程图的功能。\\n其中，对列表 [x, y, z] 执行的紫色平行四边形操作是计算并打印 x + y - 10z 的值。\\n使用一些随机的 a、b、c 值测试输出结果。提交当 a = 5、b = 15、c = 10 时的输出。\\n'"
      ]
     },
     "execution_count": 38,
     "metadata": {},
     "output_type": "execute_result"
    }
   ],
   "source": [
    "'''\n",
    "1.流程图[10 分] \n",
    "编写一个名为 Print_values 的函数，其参数为 a、b、c，以实现以下流程图的功能。\n",
    "其中，对列表 [x, y, z] 执行的紫色平行四边形操作是计算并打印 x + y - 10z 的值。\n",
    "使用一些随机的 a、b、c 值测试输出结果。提交当 a = 5、b = 15、c = 10 时的输出。\n",
    "'''"
   ]
  },
  {
   "cell_type": "code",
   "execution_count": 1,
   "id": "c9356279-a004-4a19-94e1-f4cfd9b7f35e",
   "metadata": {},
   "outputs": [],
   "source": [
    "def Print_values(a,b,c):\n",
    "    if a > b:\n",
    "        if b > c:\n",
    "            x,y,z=a,b,c\n",
    "        elif b < c:\n",
    "            if a > c:\n",
    "                x,y,z=a,c,b\n",
    "            elif a < c:\n",
    "                x,y,z=c,a,b\n",
    "    elif a < b:\n",
    "        if b > c:\n",
    "            return \n",
    "        elif b < c:\n",
    "            x,y,z=c,b,a\n",
    "    return x + y - 10*z\n",
    "\n",
    "    \n",
    "Print_values(5,15,10)"
   ]
  },
  {
   "cell_type": "code",
   "execution_count": null,
   "id": "8dfcb15d-ef8f-492f-ae35-b4fc304b3891",
   "metadata": {},
   "outputs": [],
   "source": []
  },
  {
   "cell_type": "code",
   "execution_count": null,
   "id": "41ce2fb4-c037-4d7d-8493-e60b64b08266",
   "metadata": {},
   "outputs": [],
   "source": [
    "'''\n",
    "2.连续上取整函数\n",
    "[10 分] 给定一个包含 N 个正整数的列表。对于列表中的每个元素 x，求连续上取整函数的值，该函数定义为 F (x) = F (ceil (x/3)) + 2x，其中 F (1) = 1。\n",
    "（注：ceil (x/3) 表示对 x 除以 3 的结果进行上取整，即取不小于该结果的最小整数）\n",
    "'''"
   ]
  },
  {
   "cell_type": "code",
   "execution_count": 52,
   "id": "0f0e197e-5e01-446a-afb3-15329e5a791c",
   "metadata": {},
   "outputs": [
    {
     "name": "stdout",
     "output_type": "stream",
     "text": [
      "N = [19, 12, 24, 3, 28, 42, 23, 10, 14, 14]\n",
      "F(N) = [59, 37, 71, 7, 89, 127, 69, 33, 43, 43]\n"
     ]
    }
   ],
   "source": [
    "def F(x):\n",
    "    if x == 1:\n",
    "        return 1\n",
    "    c = (x + 2) // 3\n",
    "    return F(c) + 2*x\n",
    "\n",
    "import random\n",
    "N = 10\n",
    "list1 = [random.randint(1, 50) for _ in range(N)]      #1到50的N个正整数\n",
    "print(\"N = \"+str(list1))\n",
    "#list1 = [10,2,5,3,4]\n",
    "def calculate_F_for_list(l):\n",
    "    \n",
    "    return [F(x) for x in l]\n",
    "\n",
    "    \n",
    "\n",
    "print(\"F(N) = \"+str(calculate_F_for_list(list1)))"
   ]
  },
  {
   "cell_type": "code",
   "execution_count": null,
   "id": "baec6a32-2336-4e66-adb6-b10d14d9f67b",
   "metadata": {},
   "outputs": [],
   "source": []
  },
  {
   "cell_type": "code",
   "execution_count": null,
   "id": "bdce11d9-97f9-43df-895f-9d350b812d45",
   "metadata": {},
   "outputs": [],
   "source": [
    "'''3. 掷骰子'''"
   ]
  },
  {
   "cell_type": "code",
   "execution_count": 53,
   "id": "a52a3d33-0c92-4fb1-9595-70c8a34cf03b",
   "metadata": {},
   "outputs": [
    {
     "name": "stdout",
     "output_type": "stream",
     "text": [
      "57\n",
      "10 个骰子总和 57 的ways: 220\n"
     ]
    }
   ],
   "source": [
    "'''3.1 [15分] 现有10个骰子，每个骰子有6个面，编号为1到6。编写一个函数Find_number_of_ways，用于计算掷出所有骰子后，面朝上的数字之和为x的方式有多少种。'''\n",
    "\n",
    "#60>=x>=10\n",
    "import random\n",
    "x = random.randint(10, 60)\n",
    "#[random.randint(6, 36) for _ in range(1)] \n",
    "print(x)\n",
    "\n",
    "#x=60\n",
    "#x=30\n",
    "# n = 10\n",
    "\n",
    "\n",
    "def Find_number_of_ways(n, x):\n",
    "    #if x < 10 or x > 60 :\n",
    "    if x < n or x > 6*n:\n",
    "        return 0\n",
    "    if n == 1:\n",
    "        return 1 if 1 <= x <= 6 else 0\n",
    "    ways = 0\n",
    "    for num1 in range(1, 7):\n",
    "        rest = x - num1\n",
    "        ways += Find_number_of_ways(n-1, rest)\n",
    "    return ways\n",
    "\n",
    "\n",
    "\n",
    "print(\"10 个骰子总和\",x,\"的ways:\", Find_number_of_ways(10, x))"
   ]
  },
  {
   "cell_type": "code",
   "execution_count": 54,
   "id": "8ce9fe6f-4925-486d-b8f7-9abd5c5bcfc5",
   "metadata": {},
   "outputs": [
    {
     "name": "stdout",
     "output_type": "stream",
     "text": [
      "最大ways对应的x:  35\n",
      "最大ways: 4395456\n"
     ]
    }
   ],
   "source": [
    "'''3.2 [5分] 计算x从10到60的所有取值对应的方式数，将这些方式数存入一个名为Number_of_ways的列表中，那么哪个x值对应的Number_of_ways最大？'''\n",
    "Number_of_ways = []\n",
    "for i in range(10, 61):\n",
    "    ways = Find_number_of_ways(10, i)\n",
    "    Number_of_ways.append(ways)\n",
    "    \n",
    "max_ways = max(Number_of_ways)\n",
    "max_x = Number_of_ways.index(max_ways) + 10\n",
    "\n",
    "\n",
    "\n",
    "\n",
    "print(\"最大ways对应的x: \", max_x)\n",
    "print(\"最大ways:\", max_ways)"
   ]
  },
  {
   "cell_type": "code",
   "execution_count": null,
   "id": "b6cd680b-b68c-4d4c-ae66-202fc6c5ee3b",
   "metadata": {},
   "outputs": [],
   "source": [
    "'''4. 动态规划'''"
   ]
  },
  {
   "cell_type": "code",
   "execution_count": 55,
   "id": "72ad78da-2678-4bcf-8d56-a3456d36b7e1",
   "metadata": {},
   "outputs": [
    {
     "name": "stdout",
     "output_type": "stream",
     "text": [
      "[2, 1, 10, 7, 3, 2, 3, 9, 9, 9]\n"
     ]
    }
   ],
   "source": [
    "'''4.1 [5分]** 编写一个函数 `Random_integer`，通过随机选择0到10的整数来填充一个包含N个元素的数组。'''\n",
    "def Random_integer(N):\n",
    "    import random\n",
    "    l = []\n",
    "    for i in range(1,N+1):\n",
    "        x = random.randint(0, 10)\n",
    "        l.append(x)\n",
    "    return l\n",
    "\n",
    "\n",
    "    \n",
    "    \n",
    "print(Random_integer(10))\n",
    "\n",
    "#Random_integer(N) 随机选择0到10的整数来填充一个包含N个元素的数组"
   ]
  },
  {
   "cell_type": "code",
   "execution_count": 8,
   "id": "bd525662-d2ef-4f5d-bc2a-d663bd9b4595",
   "metadata": {},
   "outputs": [
    {
     "name": "stdout",
     "output_type": "stream",
     "text": [
      "14.0\n"
     ]
    }
   ],
   "source": [
    "'''4.2 [15分]** 编写一个函数 `Sum_averages`，计算数组所有子集平均值的总和。\n",
    "例如，给定数组 [1, 2, 3]，你的 `Sum_averages` 函数应该计算以下各项的总和：\n",
    "[1] 的平均值、[2] 的平均值、[3] 的平均值、[1, 2] 的平均值、[1, 3] 的平均值、[2, 3] 的平均值，以及 [1, 2, 3] 的平均值。    14\n",
    "'''\n",
    "def Sum_averages(arr):\n",
    "    if not arr:\n",
    "        return 0\n",
    "    n = len(arr)\n",
    "    total_sum = sum(arr)\n",
    "    return total_sum * (2 ** n - 1) / n\n",
    "\n",
    "\n",
    "\n",
    "\n",
    "arr = [1,2,3]\n",
    "print(Sum_averages(arr))\n",
    "\n",
    "#Sum_averages(arr) 计算数组所有子集平均值的总和"
   ]
  },
  {
   "cell_type": "code",
   "execution_count": null,
   "id": "ae92f021-05a6-4037-ba6d-e44eac52cdf0",
   "metadata": {},
   "outputs": [],
   "source": [
    "'''\n",
    "包含 arr[i] 的大小为 k 的子集的个数：\n",
    "    我们要组成包含 arr[i] 的大小为 k 的子集\n",
    "    已经确定了 arr[i] 在这个子集中\n",
    "    还需要从剩下的 n-1 个元素中选择 k-1 个元素\n",
    "    所以选择方式就是 C(n-1, k-1)\n",
    "\n",
    "Sum_averages = Σ_{i=1}ⁿ aᵢ × [Σ_{k=1}ⁿ C(n-1, k-1) / k]\n",
    "Σ_{k=1}ⁿ C(n-1, k-1) / k = (2ⁿ - 1) / n\n",
    "\n",
    "每个元素ai乘以{ 对所有长度的子集 [k(1到n)] 求 [子集数量（C(n-1, k-1)）/子集元素个数（k）] 和}，再求和\n",
    "'''  "
   ]
  },
  {
   "cell_type": "code",
   "execution_count": 10,
   "id": "1adfbadc-6389-4d6e-8e54-80a720ac64f6",
   "metadata": {},
   "outputs": [
    {
     "data": {
      "image/png": "[encoded data removed]",
      "text/plain": [
       "<Figure size 1200x800 with 2 Axes>"
      ]
     },
     "metadata": {},
     "output_type": "display_data"
    }
   ],
   "source": [
    "#Random_integer(N) 随机选择0到10的整数来填充一个包含N个元素的数组\n",
    "#Sum_averages(arr) 计算数组所有子集平均值的总和\n",
    "'''\n",
    "**4.3 [5分]** 使用N从1增加到100调用 `Sum_averages` 函数，将输出赋值给一个名为 `Total_sum_averages` 的列表。\n",
    "绘制 `Total_sum_averages` 的图表，描述你观察到的现象。\n",
    "'''\n",
    "\n",
    "\n",
    "\n",
    "N = list(range(1, 101))\n",
    "Total_sum_averages = []\n",
    "\n",
    "for n in N:\n",
    "    arr = Random_integer(n)\n",
    "    result = Sum_averages(arr)\n",
    "    Total_sum_averages.append(result)\n",
    "\n",
    "\n",
    "\n",
    "# 画 N 与 Sum_averages 的关系图\n",
    "import matplotlib.pyplot as plt\n",
    "plt.figure(figsize=(12, 8))\n",
    "\n",
    "# 线性坐标图\n",
    "plt.subplot(2, 1, 1)\n",
    "plt.plot(N, Total_sum_averages, 'b-', linewidth=2, alpha=0.7)\n",
    "plt.xlabel(' N')\n",
    "plt.ylabel('Sum_averages ')\n",
    "plt.grid(True, alpha=0.3)\n",
    "\n",
    "# 对数坐标图\n",
    "plt.subplot(2, 1, 2)\n",
    "plt.semilogy(N, Total_sum_averages, 'r-', linewidth=2, alpha=0.7)\n",
    "plt.xlabel(' N')\n",
    "plt.ylabel('Sum_averages (log)')\n",
    "plt.grid(True, alpha=0.3)\n",
    "\n",
    "plt.tight_layout()\n",
    "plt.show()"
   ]
  },
  {
   "cell_type": "code",
   "execution_count": null,
   "id": "23d744d8-851d-4a17-9487-767198949c12",
   "metadata": {},
   "outputs": [],
   "source": [
    "'''**5. 路径计数**'''"
   ]
  },
  {
   "cell_type": "code",
   "execution_count": 38,
   "id": "5c93be20-34bc-404b-af01-19b472f9d436",
   "metadata": {},
   "outputs": [
    {
     "name": "stdout",
     "output_type": "stream",
     "text": [
      "10行8列矩阵：\n",
      "[[1 1 1 1 1 0 1 0]\n",
      " [0 1 0 0 0 0 1 1]\n",
      " [1 1 0 0 1 1 1 1]\n",
      " [0 1 1 0 1 1 1 0]\n",
      " [1 1 1 1 1 1 1 0]\n",
      " [1 0 1 1 0 1 1 0]\n",
      " [1 1 1 0 0 0 1 0]\n",
      " [1 1 0 1 1 1 1 0]\n",
      " [0 1 1 1 0 1 1 1]\n",
      " [0 1 1 0 0 1 1 1]]\n"
     ]
    }
   ],
   "source": [
    "'''**5.1 [5分]** 创建一个具有 N 行 M 列的矩阵，将右下角和左上角单元格填充为 1，其余单元格随机填充为整数 0 或 1。'''\n",
    "import numpy as np\n",
    "import random\n",
    "\n",
    "def create_matrix(N,M):\n",
    "    matrix = np.random.randint(0, 2, size=(N,M))\n",
    "    matrix[0, 0] = 1\n",
    "    matrix[N-1, M-1] = 1\n",
    "    \n",
    "    return matrix\n",
    "\n",
    "\n",
    "N = 10\n",
    "M = 8\n",
    "matrix = create_matrix(N,M)\n",
    "\n",
    "print(f\"{N}行{M}列矩阵：\")\n",
    "print(matrix)"
   ]
  },
  {
   "cell_type": "code",
   "execution_count": 40,
   "id": "69ec18cd-8e64-42e4-8f13-7ebf7367bea5",
   "metadata": {},
   "outputs": [
    {
     "name": "stdout",
     "output_type": "stream",
     "text": [
      "路径总数: 8\n"
     ]
    }
   ],
   "source": [
    "'''**5.2 [25分]** 将标记为 0 的单元格视为障碍或死胡同，标记为 1 的单元格表示可以通过。\n",
    "编写一个函数 `Count_path` 来计算从左上角单元格到达右下角单元格的路径总数。\n",
    "注意：对于给定单元格，只允许向右或向下移动。'''\n",
    "\n",
    "def Count_path(matrix):\n",
    "\n",
    "    N, M = matrix.shape\n",
    "    \n",
    "    if matrix[0, 0] == 0 or matrix[N-1, M-1] == 0:  # 起点或终点是0\n",
    "        return 0\n",
    "\n",
    "    \n",
    "    dp = np.zeros((N, M), dtype=int)\n",
    "    dp[0, 0] = 1\n",
    "    \n",
    "    # 第一行\n",
    "    for j in range(1, M):\n",
    "        if matrix[0, j] == 1:\n",
    "            dp[0, j] = dp[0, j-1]\n",
    "        else:\n",
    "            dp[0, j] = 0\n",
    "    \n",
    "    # 第一列\n",
    "    for i in range(1, N):\n",
    "        if matrix[i, 0] == 1:\n",
    "            dp[i, 0] = dp[i-1, 0]\n",
    "        else:\n",
    "            dp[i, 0] = 0\n",
    "    \n",
    "    # 其余格\n",
    "    for i in range(1, N):\n",
    "        for j in range(1, M):\n",
    "            if matrix[i, j] == 1:\n",
    "                dp[i, j] = dp[i-1, j] + dp[i, j-1]\n",
    "            else:\n",
    "                dp[i, j] = 0\n",
    "    \n",
    "    return dp[N-1, M-1]\n",
    "\n",
    "'''\n",
    "matrix = np.array([\n",
    "    [1, 1, 1, 1, 1, 0, 1, 0],\n",
    "    [0, 1, 0, 0, 0, 0, 1, 1],\n",
    "    [1, 1, 0, 0, 1, 1, 1, 1],\n",
    "    [0, 1, 1, 0, 1, 1, 1, 0],\n",
    "    [1, 1, 1, 1, 1, 1, 1, 0],\n",
    "    [1, 0, 1, 1, 0, 1, 1, 0],\n",
    "    [1, 1, 1, 0, 0, 0, 1, 0],\n",
    "    [1, 1, 0, 1, 1, 1, 1, 0],\n",
    "    [0, 1, 1, 1, 0, 1, 1, 1],\n",
    "    [0, 1, 1, 0, 0, 1, 1, 1]\n",
    "]\n",
    "'''\n",
    "# 测试路径计数\n",
    "print(f\" 总路径数: {Count_path(matrix)}\")"
   ]
  },
  {
   "cell_type": "code",
   "execution_count": 51,
   "id": "e39e1946-f4fa-4e30-a9de-3c1ba8d62cba",
   "metadata": {},
   "outputs": [
    {
     "name": "stdout",
     "output_type": "stream",
     "text": [
      "路径总数的平均值: 0.3140\n"
     ]
    }
   ],
   "source": [
    "'''**5.3 [5分]** 设 N = 10，M = 8，运行 `Count_path` 函数 1000 次，\n",
    "每次矩阵（除了保持为 1 的右下角和左上角单元格）都重新随机填充为整数 0 或 1，\n",
    "报告这 1000 次运行中路径总数的平均值。'''\n",
    "\n",
    "#运行多次模拟并计算路径数的平均值\n",
    "\n",
    "def avepath(N=10, M=8, num_runs=1000):\n",
    "\n",
    "    total_paths = 0\n",
    "\n",
    "    for run in range(num_runs):\n",
    "        matrix = create_matrix(N, M)\n",
    "        paths = Count_path(matrix)\n",
    "        \n",
    "        if paths > 0:  \n",
    "            total_paths = paths +total_paths\n",
    "\n",
    "\n",
    "    average_paths = total_paths/1000\n",
    "\n",
    "    \n",
    "    return average_paths\n",
    "\n",
    "\n",
    "print(f\"路径总数的平均值: {avepath(N=10, M=8, num_runs=1000):.4f}\")"
   ]
  },
  {
   "cell_type": "code",
   "execution_count": null,
   "id": "f0dd3660-3ee7-495f-8659-c4e5ea334c78",
   "metadata": {},
   "outputs": [],
   "source": []
  },
  {
   "cell_type": "code",
   "execution_count": null,
   "id": "4e9a915e-cb21-4cc8-bdee-6eb1aa4b68a5",
   "metadata": {},
   "outputs": [],
   "source": []
  },
  {
   "cell_type": "code",
   "execution_count": null,
   "id": "4731091a-2992-417e-a2cf-73e510131f12",
   "metadata": {},
   "outputs": [],
   "source": []
  },
  {
   "cell_type": "code",
   "execution_count": null,
   "id": "cca9f049-8936-40b6-8f2d-586a6b5c99ae",
   "metadata": {},
   "outputs": [],
   "source": []
  }
 ],
 "metadata": {
  "kernelspec": {
   "display_name": "Python 3 (ipykernel)",
   "language": "python",
   "name": "python3"
  },
  "language_info": {
   "codemirror_mode": {
    "name": "ipython",
    "version": 3
   },
   "file_extension": ".py",
   "mimetype": "text/x-python",
   "name": "python",
   "nbconvert_exporter": "python",
   "pygments_lexer": "ipython3",
   "version": "3.13.5"
  }
 },
 "nbformat": 4,
 "nbformat_minor": 5
}
